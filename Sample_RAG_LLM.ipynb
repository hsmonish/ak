{
 "cells": [
  {
   "cell_type": "code",
   "execution_count": 1,
   "id": "0adc07ec-f272-4662-a1c0-834f0f16f96c",
   "metadata": {},
   "outputs": [],
   "source": [
    "from langchain.llms import CTransformers\n",
    "from langchain.document_loaders.csv_loader import CSVLoader\n",
    "from langchain.prompts import PromptTemplate\n",
    "from langchain_core.prompts import ChatPromptTemplate\n",
    "from langchain_core.output_parsers import StrOutputParser\n",
    "from langchain.text_splitter import RecursiveCharacterTextSplitter\n",
    "from langchain.embeddings import HuggingFaceEmbeddings\n",
    "from langchain.vectorstores import FAISS\n",
    "from langchain.memory import ConversationBufferMemory\n",
    "from langchain.chains import ConversationalRetrievalChain\n",
    "import sys"
   ]
  },
  {
   "cell_type": "code",
   "execution_count": 2,
   "id": "da461161-1ca3-4bbe-871a-4eb1ee9a83df",
   "metadata": {},
   "outputs": [
    {
     "data": {
      "text/plain": [
       "[Document(page_content='\\ufeffPrompts: Get a indexed search result of Manufacturing Item\\nPath_Item: /resources/v1/modeler/dsmfg/dsmfg:MfgItem/search\\nCall: get', metadata={'source': 'ai_prompts.csv', 'row': 0}),\n",
       " Document(page_content='\\ufeffPrompts: Get a Manufacturing Item\\nPath_Item: /resources/v1/modeler/dsmfg/dsmfg:MfgItem/{ID}\\nCall: get', metadata={'source': 'ai_prompts.csv', 'row': 1}),\n",
       " Document(page_content='\\ufeffPrompts: Modify the Manufacturing Item attributes\\nPath_Item: /resources/v1/modeler/dsmfg/dsmfg:MfgItem/{ID}\\nCall: patch', metadata={'source': 'ai_prompts.csv', 'row': 2}),\n",
       " Document(page_content='\\ufeffPrompts: Delete the Manufacturing Item\\nPath_Item: /resources/v1/modeler/dsmfg/dsmfg:MfgItem/{ID}\\nCall: delete', metadata={'source': 'ai_prompts.csv', 'row': 3}),\n",
       " Document(page_content='\\ufeffPrompts: Get scoped, partial scoped and resulting manufacturing item references from Engineering Item\\nPath_Item: /resources/v1/modeler/dsmfg/invoke/dsmfg:getMfgItemsFromEngItem\\nCall: post', metadata={'source': 'ai_prompts.csv', 'row': 4}),\n",
       " Document(page_content='\\ufeffPrompts: Create Manufacturing Items\\nPath_Item: /resources/v1/modeler/dsmfg/dsmfg:MfgItem\\nCall: post', metadata={'source': 'ai_prompts.csv', 'row': 5}),\n",
       " Document(page_content='\\ufeffPrompts: Locate or find set of Manufacturing Items dsmfg:MfgItem based on the matched search criteria and other filter criteria\\nPath_Item: /resources/v1/modeler/dsmfg/dsmfg:MfgItem/locate\\nCall: post', metadata={'source': 'ai_prompts.csv', 'row': 6}),\n",
       " Document(page_content='\\ufeffPrompts: Bulk reconnect of scope and resulting products for the corresponding specified Mfg Item\\nPath_Item: /resources/v1/modeler/dsmfg/invoke/dsmfg:reconnect\\nCall: post', metadata={'source': 'ai_prompts.csv', 'row': 7}),\n",
       " Document(page_content='\\ufeffPrompts: Expand specified Manufacturing Item dsmfg:MfgItem to retrive \\xa0all its references and instances\\nPath_Item: /resources/v1/modeler/dsmfg/dsmfg:MfgItem/{ID}/expand\\nCall: post', metadata={'source': 'ai_prompts.csv', 'row': 8}),\n",
       " Document(page_content='\\ufeffPrompts: Retrieve Manufacturing Item realized changes with its realized activity in the change\\nPath_Item: /resources/v1/modeler/dsmfg/invoke/dsmfg:getRealizedChanges\\nCall: post', metadata={'source': 'ai_prompts.csv', 'row': 9}),\n",
       " Document(page_content='\\ufeffPrompts: Get multiple Manufacturing Items which are Indexed\\nPath_Item: /resources/v1/modeler/dsmfg/dsmfg:MfgItem/bulkfetch\\nCall: post', metadata={'source': 'ai_prompts.csv', 'row': 10}),\n",
       " Document(page_content='\\ufeffPrompts: Get all the Manufacturing Item Instances\\nPath_Item: /resources/v1/modeler/dsmfg/dsmfg:MfgItem/{ID}/dsmfg:MfgItemInstance\\nCall: get', metadata={'source': 'ai_prompts.csv', 'row': 11}),\n",
       " Document(page_content='\\ufeffPrompts: Create Manufacturing Item Instance\\nPath_Item: /resources/v1/modeler/dsmfg/dsmfg:MfgItem/{ID}/dsmfg:MfgItemInstance\\nCall: post', metadata={'source': 'ai_prompts.csv', 'row': 12}),\n",
       " Document(page_content='\\ufeffPrompts: Get a Manufacturing Item Instance\\nPath_Item: /resources/v1/modeler/dsmfg/dsmfg:MfgItem/{PID}/dsmfg:MfgItemInstance/{ID}\\nCall: get', metadata={'source': 'ai_prompts.csv', 'row': 13}),\n",
       " Document(page_content='\\ufeffPrompts: Modify the Manufacturing Item Instance attributes\\nPath_Item: /resources/v1/modeler/dsmfg/dsmfg:MfgItem/{PID}/dsmfg:MfgItemInstance/{ID}\\nCall: patch', metadata={'source': 'ai_prompts.csv', 'row': 14}),\n",
       " Document(page_content='\\ufeffPrompts: Replace the Manufacturing Item Instance\\nPath_Item: /resources/v1/modeler/dsmfg/dsmfg:MfgItem/{PID}/dsmfg:MfgItemInstance/{ID}/replace\\nCall: post', metadata={'source': 'ai_prompts.csv', 'row': 15}),\n",
       " Document(page_content='\\ufeffPrompts: Get all the Manufacturing Item Instances from the given specified Engineering Item occurrence having implement links\\nPath_Item: /resources/v1/modeler/dsmfg/invoke/dsmfg:getMfgItemInstanceFromImplementedEngOccurrence\\nCall: post', metadata={'source': 'ai_prompts.csv', 'row': 16}),\n",
       " Document(page_content='\\ufeffPrompts: Detach Manufacturing item instances from an Manufacturing Item version\\nPath_Item: /resources/v1/modeler/dsmfg/invoke/dsmfg:detachMfgItemInstances\\nCall: post', metadata={'source': 'ai_prompts.csv', 'row': 17}),\n",
       " Document(page_content='\\ufeffPrompts: Get Multiple \\xa0Manufacturing Item Instances which are Indexed\\nPath_Item: /resources/v1/modeler/dsmfg/dsmfg:MfgItemInstance/bulkFetch\\nCall: post', metadata={'source': 'ai_prompts.csv', 'row': 18}),\n",
       " Document(page_content='\\ufeffPrompts: Get all the resulting Engineering Item from the Manufacturing reference dsmfg:MfgItem\\nPath_Item: /resources/v1/modeler/dsmfg/dsmfg:MfgItem/{ID}/dsmfg:ResultingEngItem\\nCall: get', metadata={'source': 'ai_prompts.csv', 'row': 19}),\n",
       " Document(page_content='\\ufeffPrompts: Create Resulting Engineering Item Link to an Engineering Item\\nPath_Item: /resources/v1/modeler/dsmfg/dsmfg:MfgItem/{ID}/dsmfg:ResultingEngItem\\nCall: post', metadata={'source': 'ai_prompts.csv', 'row': 20}),\n",
       " Document(page_content='\\ufeffPrompts: Get specific Resulting Engineering Items\\nPath_Item: /resources/v1/modeler/dsmfg/dsmfg:MfgItem/{ID}/dsmfg:ResultingEngItem/{PID}\\nCall: get', metadata={'source': 'ai_prompts.csv', 'row': 21}),\n",
       " Document(page_content='\\ufeffPrompts: Modify the Resulting Eng Item Link attributes\\nPath_Item: /resources/v1/modeler/dsmfg/dsmfg:MfgItem/{ID}/dsmfg:ResultingEngItem/{PID}\\nCall: patch', metadata={'source': 'ai_prompts.csv', 'row': 22}),\n",
       " Document(page_content='\\ufeffPrompts: Delete the Resulting EngItem Link to Engineering Item\\nPath_Item: /resources/v1/modeler/dsmfg/dsmfg:MfgItem/{ID}/dsmfg:ResultingEngItem/{PID}\\nCall: delete', metadata={'source': 'ai_prompts.csv', 'row': 23}),\n",
       " Document(page_content='\\ufeffPrompts: Get a Scoped Engineering Item of an dsmfg:MfgItem\\nPath_Item: /resources/v1/modeler/dsmfg/dsmfg:MfgItem/{ID}/dsmfg:ScopeEngItem\\nCall: get', metadata={'source': 'ai_prompts.csv', 'row': 24}),\n",
       " Document(page_content='\\ufeffPrompts: Service to attach a Scope Engineering Item to a Manufacturing Item reference\\nPath_Item: /resources/v1/modeler/dsmfg/dsmfg:MfgItem/{ID}/dsmfg:ScopeEngItem/attach\\nCall: post', metadata={'source': 'ai_prompts.csv', 'row': 25}),\n",
       " Document(page_content='\\ufeffPrompts: Service to detach a Scope Engineering Item from a Manufacturing Item reference\\nPath_Item: /resources/v1/modeler/dsmfg/dsmfg:MfgItem/{ID}/dsmfg:ScopeEngItem/detach\\nCall: post', metadata={'source': 'ai_prompts.csv', 'row': 26}),\n",
       " Document(page_content='\\ufeffPrompts: Service to reconnect a Scope Engineering Item to a Manufacturing Item reference\\nPath_Item: /resources/v1/modeler/dsmfg/dsmfg:MfgItem/{ID}/dsmfg:ScopeEngItem/set/reconnect\\nCall: post', metadata={'source': 'ai_prompts.csv', 'row': 27}),\n",
       " Document(page_content='\\ufeffPrompts: Get all the Assignment filters from the Manufacturing reference dsmfg:MfgItem\\nPath_Item: /resources/v1/modeler/dsmfg/dsmfg:MfgItem/{ID}/dsmfg:AssignmentFilter\\nCall: get', metadata={'source': 'ai_prompts.csv', 'row': 28}),\n",
       " Document(page_content='\\ufeffPrompts: Service to attach assignment filters (list of engineering occurrences) to a Manufacturing Item reference\\nPath_Item: /resources/v1/modeler/dsmfg/dsmfg:MfgItem/{ID}/dsmfg:AssignmentFilter/attach\\nCall: post', metadata={'source': 'ai_prompts.csv', 'row': 29}),\n",
       " Document(page_content='\\ufeffPrompts: Service to detach AssignmentFilter Link (list of engineering Occurrences) from an single Manufacturing Item\\nPath_Item: /resources/v1/modeler/dsmfg/dsmfg:MfgItem/{ID}/dsmfg:AssignmentFilter/detach\\nCall: post', metadata={'source': 'ai_prompts.csv', 'row': 30}),\n",
       " Document(page_content='\\ufeffPrompts: Locate and Get Manufacturing Item from the Assignment filter with the specified engineering occurrences\\nPath_Item: /resources/v1/modeler/dsmfg/dsmfg:AssignmentFilter/locate\\nCall: post', metadata={'source': 'ai_prompts.csv', 'row': 31}),\n",
       " Document(page_content='\\ufeffPrompts: Get an Implemented Engineering Item Instances Occurrence\\nPath_Item: /resources/v1/modeler/dsmfg/dsmfg:MfgItem/{PID}/dsmfg:MfgItemInstance/{ID}/dsmfg:ImplementedEngOccurrence\\nCall: get', metadata={'source': 'ai_prompts.csv', 'row': 32}),\n",
       " Document(page_content='\\ufeffPrompts: Service to attach implemented Engineering Item Occurrence to an single Manufacturing Item instance\\nPath_Item: /resources/v1/modeler/dsmfg/dsmfg:MfgItem/{PID}/dsmfg:MfgItemInstance/{ID}/dsmfg:ImplementedEngOccurrence/attach\\nCall: post', metadata={'source': 'ai_prompts.csv', 'row': 33}),\n",
       " Document(page_content='\\ufeffPrompts: Service to detach implemented Engineering Item Occurrence from an single Manufacturing Item instance\\nPath_Item: /resources/v1/modeler/dsmfg/dsmfg:MfgItem/{PID}/dsmfg:MfgItemInstance/{ID}/dsmfg:ImplementedEngOccurrence/detach\\nCall: post', metadata={'source': 'ai_prompts.csv', 'row': 34}),\n",
       " Document(page_content='\\ufeffPrompts: Get the Partial scoped Engineering Item from the Manufacturing reference dsmfg:MfgItem\\nPath_Item: /resources/v1/modeler/dsmfg/dsmfg:MfgItem/{ID}/dsmfg:PartialScopeEngItem\\nCall: get', metadata={'source': 'ai_prompts.csv', 'row': 35}),\n",
       " Document(page_content='\\ufeffPrompts: Service to attach a Partial Scope Engineering Item to a Manufacturing Item reference\\nPath_Item: /resources/v1/modeler/dsmfg/dsmfg:MfgItem/{ID}/dsmfg:PartialScopeEngItem/attach\\nCall: post', metadata={'source': 'ai_prompts.csv', 'row': 36}),\n",
       " Document(page_content='\\ufeffPrompts: Service to detach a Scope Engineering Item from a Manufacturing Item reference\\nPath_Item: /resources/v1/modeler/dsmfg/dsmfg:MfgItem/{ID}/dsmfg:PartialScopeEngItem/detach\\nCall: post', metadata={'source': 'ai_prompts.csv', 'row': 37}),\n",
       " Document(page_content='\\ufeffPrompts: Get specified assigned requirement connection for the specified manufacturing item\\nPath_Item: /resources/v1/modeler/dsmfg/dsmfg:MfgItem/{ID}/dsmfg:AssignedRequirement/{PID}\\nCall: get', metadata={'source': 'ai_prompts.csv', 'row': 38}),\n",
       " Document(page_content='\\ufeffPrompts: Delete the specified assigned requirement Link\\nPath_Item: /resources/v1/modeler/dsmfg/dsmfg:MfgItem/{ID}/dsmfg:AssignedRequirement/{PID}\\nCall: delete', metadata={'source': 'ai_prompts.csv', 'row': 39}),\n",
       " Document(page_content='\\ufeffPrompts: Get all the assigned Requirement connections for the specified manufacturing item\\nPath_Item: /resources/v1/modeler/dsmfg/dsmfg:MfgItem/{ID}/dsmfg:AssignedRequirement\\nCall: get', metadata={'source': 'ai_prompts.csv', 'row': 40}),\n",
       " Document(page_content='\\ufeffPrompts: Create assigned requirement link between manufacturing Item and specified requirement\\nPath_Item: /resources/v1/modeler/dsmfg/dsmfg:MfgItem/{ID}/dsmfg:AssignedRequirement\\nCall: post', metadata={'source': 'ai_prompts.csv', 'row': 41}),\n",
       " Document(page_content='\\ufeffPrompts: Get specified requirement specification connection for the specified manufacturing item\\nPath_Item: /resources/v1/modeler/dsmfg/dsmfg:MfgItem/{ID}/dsmfg:ScopeRequirementSpec/{PID}\\nCall: get', metadata={'source': 'ai_prompts.csv', 'row': 42}),\n",
       " Document(page_content='\\ufeffPrompts: Delete the specified requirement specification Link\\nPath_Item: /resources/v1/modeler/dsmfg/dsmfg:MfgItem/{ID}/dsmfg:ScopeRequirementSpec/{PID}\\nCall: delete', metadata={'source': 'ai_prompts.csv', 'row': 43}),\n",
       " Document(page_content='\\ufeffPrompts: Get all the requirement specification connections for the specified manufacturing item\\nPath_Item: /resources/v1/modeler/dsmfg/dsmfg:MfgItem/{ID}/dsmfg:ScopeRequirementSpec\\nCall: get', metadata={'source': 'ai_prompts.csv', 'row': 44}),\n",
       " Document(page_content='\\ufeffPrompts: Create requirement specification link between manufacturing Item and specified requirement\\nPath_Item: /resources/v1/modeler/dsmfg/dsmfg:MfgItem/{ID}/dsmfg:ScopeRequirementSpec\\nCall: post', metadata={'source': 'ai_prompts.csv', 'row': 45}),\n",
       " Document(page_content='\\ufeffPrompts: Activate the Change Control\\nPath_Item: /resources/v1/modeler/dsmfg/dsmfg:MfgItem/{ID}/dslc:changeControl\\nCall: post', metadata={'source': 'ai_prompts.csv', 'row': 46}),\n",
       " Document(page_content='\\ufeffPrompts: Get a Change Control of an dsmfg:MfgItem\\nPath_Item: /resources/v1/modeler/dsmfg/dsmfg:MfgItem/{ID}/dslc:changeControl\\nCall: get', metadata={'source': 'ai_prompts.csv', 'row': 47}),\n",
       " Document(page_content='\\ufeffPrompts: Deactivate the Change Control\\nPath_Item: /resources/v1/modeler/dsmfg/dsmfg:MfgItem/{ID}/dslc:changeControl\\nCall: delete', metadata={'source': 'ai_prompts.csv', 'row': 48}),\n",
       " Document(page_content='\\ufeffPrompts: Modify Configuration Information of configured object\\nPath_Item: /resources/v1/modeler/dsmfg/dsmfg:MfgItem/{ID}/dscfg:Configured\\nCall: patch', metadata={'source': 'ai_prompts.csv', 'row': 49}),\n",
       " Document(page_content='\\ufeffPrompts: Get a Object Configuration information\\nPath_Item: /resources/v1/modeler/dsmfg/dsmfg:MfgItem/{ID}/dscfg:Configured\\nCall: get', metadata={'source': 'ai_prompts.csv', 'row': 50}),\n",
       " Document(page_content='\\ufeffPrompts: Service to attach a list of configuration context to a single reference\\nPath_Item: /resources/v1/modeler/dsmfg/dsmfg:MfgItem/{ID}/dscfg:Configured/attach\\nCall: post', metadata={'source': 'ai_prompts.csv', 'row': 51}),\n",
       " Document(page_content='\\ufeffPrompts: Service to detach a list of configuration context from a single reference\\nPath_Item: /resources/v1/modeler/dsmfg/dsmfg:MfgItem/{ID}/dscfg:Configured/detach\\nCall: post', metadata={'source': 'ai_prompts.csv', 'row': 52}),\n",
       " Document(page_content='\\ufeffPrompts: Get a Instance effectivity information\\nPath_Item: /resources/v1/modeler/dsmfg/dsmfg:MfgItem/{PID}/dsmfg:MfgItemInstance/{ID}/dscfg:Filterable\\nCall: get', metadata={'source': 'ai_prompts.csv', 'row': 53}),\n",
       " Document(page_content='\\ufeffPrompts: Service to get the Manufacturing Instance direct dependencies\\nPath_Item: /resources/v1/modeler/dsmfg/dsmfg:MfgItem/{PID}/dsmfg:MfgItemInstance/{ID}/dsmfg:Dependency\\nCall: get', metadata={'source': 'ai_prompts.csv', 'row': 54}),\n",
       " Document(page_content='\\ufeffPrompts: Service to attach dependency constraint to a specified Manufacturing Item instance\\nPath_Item: /resources/v1/modeler/dsmfg/dsmfg:MfgItem/{PID}/dsmfg:MfgItemInstance/{ID}/dsmfg:Dependency/attach\\nCall: post', metadata={'source': 'ai_prompts.csv', 'row': 55}),\n",
       " Document(page_content='\\ufeffPrompts: Service to detach dependency constraint from a specified Manufacturing Item instance\\nPath_Item: /resources/v1/modeler/dsmfg/dsmfg:MfgItem/{PID}/dsmfg:MfgItemInstance/{ID}/dsmfg:Dependency/detach\\nCall: post', metadata={'source': 'ai_prompts.csv', 'row': 56})]"
      ]
     },
     "execution_count": 2,
     "metadata": {},
     "output_type": "execute_result"
    }
   ],
   "source": [
    "loader = CSVLoader(file_path = \"ai_prompts.csv\", encoding = \"utf-8\", csv_args = {'delimiter': ','})\n",
    "data = loader.load()\n",
    "data"
   ]
  },
  {
   "cell_type": "code",
   "execution_count": 3,
   "id": "1e65f329-6851-4299-9b38-27a0fcc0ba4c",
   "metadata": {},
   "outputs": [],
   "source": [
    "# download sentence Transformers embeddings from huggingface"
   ]
  },
  {
   "cell_type": "code",
   "execution_count": 4,
   "id": "3b4d8223-94f2-469d-b215-620481ab4738",
   "metadata": {},
   "outputs": [],
   "source": [
    "# from langchain_community.embeddings import OllamaEmbeddings\n",
    "# embeddings = OllamaEmbeddings()"
   ]
  },
  {
   "cell_type": "code",
   "execution_count": 5,
   "id": "a5f3cb5c-8b39-4ca2-994b-8ecc39b93e90",
   "metadata": {},
   "outputs": [],
   "source": [
    "embeddings = HuggingFaceEmbeddings(model_name = 'sentence-transformers/all-MiniLM-L6-v2')"
   ]
  },
  {
   "cell_type": "code",
   "execution_count": 6,
   "id": "98b56134-1491-44b3-827b-4a9855791795",
   "metadata": {},
   "outputs": [
    {
     "data": {
      "text/plain": [
       "<langchain_community.vectorstores.faiss.FAISS at 0x22a12a27950>"
      ]
     },
     "execution_count": 6,
     "metadata": {},
     "output_type": "execute_result"
    }
   ],
   "source": [
    "docsearch = FAISS.from_documents(data, embeddings)\n",
    "docsearch"
   ]
  },
  {
   "cell_type": "code",
   "execution_count": 7,
   "id": "a2b73218-f6ea-4b45-97a5-9411181256c4",
   "metadata": {
    "scrolled": true
   },
   "outputs": [
    {
     "name": "stdout",
     "output_type": "stream",
     "text": [
      "Result [Document(page_content='\\ufeffPrompts: Get a indexed search result of Manufacturing Item\\nPath_Item: /resources/v1/modeler/dsmfg/dsmfg:MfgItem/search\\nCall: get', metadata={'source': 'ai_prompts.csv', 'row': 0}), Document(page_content='\\ufeffPrompts: Get multiple Manufacturing Items which are Indexed\\nPath_Item: /resources/v1/modeler/dsmfg/dsmfg:MfgItem/bulkfetch\\nCall: post', metadata={'source': 'ai_prompts.csv', 'row': 10}), Document(page_content='\\ufeffPrompts: Get Multiple \\xa0Manufacturing Item Instances which are Indexed\\nPath_Item: /resources/v1/modeler/dsmfg/dsmfg:MfgItemInstance/bulkFetch\\nCall: post', metadata={'source': 'ai_prompts.csv', 'row': 18})]\n"
     ]
    }
   ],
   "source": [
    "query = \"what is the path_item and call of Gets a indexed search result of Manufacturing Item provided in the data?\"\n",
    "\n",
    "docs = docsearch.similarity_search(query, k =3)\n",
    "print(\"Result\", docs)"
   ]
  },
  {
   "cell_type": "code",
   "execution_count": 18,
   "id": "ce7e40ed-05d6-4b5b-86f3-b71e0e1310f3",
   "metadata": {},
   "outputs": [],
   "source": [
    "llm = CTransformers(\n",
    "    model = \"llama-2-7b-chat.ggmlv3.q8_0.bin\",\n",
    "    model_type = \"llama\",\n",
    "    config = {\"max_new_tokens\": 1024, \"temperature\": 0.015, \"context_length\" : 2048},\n",
    ")"
   ]
  },
  {
   "cell_type": "code",
   "execution_count": 19,
   "id": "c02f0e7e-6260-4001-aacd-5a9bb4a2d43b",
   "metadata": {},
   "outputs": [
    {
     "name": "stdout",
     "output_type": "stream",
     "text": [
      "input_variables=['context', 'question'] messages=[HumanMessagePromptTemplate(prompt=PromptTemplate(input_variables=['context', 'question'], template='\\nFor the given {question}webservice call or {question}combination of two webservice calls give the path_item and call for it in the format : \\n\"[Path_item : \\nCall :\\n]\"\\nIf it requires to do two webservice calls based on the prompt,  give the path_item and call for the first webservice call and the second webservice call in the format :\\n\"[Path_item1 : \\nCall1 :\\n]\\n[Path_item2 : \\nCall2 :\\n]\"\\nbased on the {context}. \\n\\nContext: {context}\\n\\nQuestion: {question}\\n'))]\n"
     ]
    }
   ],
   "source": [
    "template = \"\"\"\n",
    "For the given {question}webservice call or {question}combination of two webservice calls give the path_item and call for it in the format : \n",
    "\"[Path_item : \n",
    "Call :\n",
    "]\"\n",
    "If it requires to do two webservice calls based on the prompt,  give the path_item and call for the first webservice call and the second webservice call in the format :\n",
    "\"[Path_item1 : \n",
    "Call1 :\n",
    "]\n",
    "[Path_item2 : \n",
    "Call2 :\n",
    "]\"\n",
    "based on the {context}. \n",
    "\n",
    "Context: {context}\n",
    "\n",
    "Question: {question}\n",
    "\"\"\"\n",
    "prompt = ChatPromptTemplate.from_template(template)\n",
    "\n",
    "print(prompt)"
   ]
  },
  {
   "cell_type": "code",
   "execution_count": 20,
   "id": "adaa71a4-7f37-4884-90a7-279ec35e6894",
   "metadata": {},
   "outputs": [],
   "source": [
    "#Another Template\n",
    "# template = \"\"\" \n",
    "# The question contains a webservice call or multiple webservice call prompts,\n",
    "# If the question has one webservice call Provide the \"path_item\" and \"call\" in the format \"\"[Path_item : \n",
    "# Call :\n",
    "# ]\"\" based on the context below or If the question has two webservice calls provide \"path_item1\",\"call1\" and \"path_item2\",\"call2\" in the format \"[Path_item1 : \n",
    "#  Call1 :\n",
    "#  ]\n",
    "#  [Path_item2 : \n",
    "#  Call2 :\n",
    "#  ]\" for it based on the context below\n",
    "\n",
    "# Context : {context}\n",
    "\n",
    "# Question: {question}\n",
    "# \"\"\"\n",
    "# prompt = ChatPromptTemplate.from_template(template)\n",
    "\n",
    "# print(prompt)"
   ]
  },
  {
   "cell_type": "code",
   "execution_count": 21,
   "id": "bb5a7228-f346-4640-9d97-db67b47b5638",
   "metadata": {},
   "outputs": [],
   "source": [
    "parser = StrOutputParser()"
   ]
  },
  {
   "cell_type": "code",
   "execution_count": 22,
   "id": "1e10bebc-653b-474f-9197-73041e8970fe",
   "metadata": {},
   "outputs": [],
   "source": [
    "# chain = prompt | llm | parser\n",
    "# chain.input_schema.schema()"
   ]
  },
  {
   "cell_type": "code",
   "execution_count": 23,
   "id": "74a9c35e-fdf5-4baf-b64a-b628cff079a1",
   "metadata": {},
   "outputs": [],
   "source": [
    "retriever = docsearch.as_retriever()"
   ]
  },
  {
   "cell_type": "code",
   "execution_count": 24,
   "id": "1b54cdd5-0338-456f-9688-6589203b0553",
   "metadata": {},
   "outputs": [],
   "source": [
    "# chain.invoke(\n",
    "#     {\n",
    "#         \"context\": \"The name i was given was Monish\",\n",
    "#         \"question\": \"What's my name?\"\n",
    "\n",
    "#     }\n",
    "# )"
   ]
  },
  {
   "cell_type": "code",
   "execution_count": 25,
   "id": "e0aa4909-406f-4297-992b-adada4ca6c12",
   "metadata": {},
   "outputs": [
    {
     "data": {
      "text/plain": [
       "'Path_item : /resources/v1/modeler/dsmfg/dsmfg:MfgItem/{PID}/dsmfg:MfgItemInstance/{ID}\\nCall : patch\\n\\nAnswer: The path item is /resources/v1/modeler/dsmfg/dsmfg:MfgItem/{PID}/dsmfg:MfgItemInstance/{ID} and the call is patch.'"
      ]
     },
     "execution_count": 25,
     "metadata": {},
     "output_type": "execute_result"
    }
   ],
   "source": [
    "from operator import itemgetter\n",
    "\n",
    "chain = (\n",
    "    {\n",
    "        \"context\": itemgetter(\"question\") | retriever,\n",
    "        \"question\": itemgetter(\"question\")\n",
    "    }\n",
    "    | prompt | llm | parser\n",
    ")\n",
    "\n",
    "chain.invoke({\"question\": \"Modifies the Manufacturing Item Instance attributes\"})"
   ]
  },
  {
   "cell_type": "code",
   "execution_count": 26,
   "id": "16c14527-cea8-4994-a5bc-ba0f39e42f9e",
   "metadata": {},
   "outputs": [],
   "source": [
    "# chain = (\n",
    "#     {\n",
    "#         \"context\": itemgetter(\"question\") | retriever,\n",
    "#         \"question\": itemgetter(\"question\")\n",
    "#     }\n",
    "#     | prompt | llm | parser\n",
    "# )\n",
    "\n",
    "# chain.invoke({\"question\": \"Create and Delete Manufacturing Items\"})"
   ]
  },
  {
   "cell_type": "code",
   "execution_count": null,
   "id": "514f3935-7a93-4ac2-a587-d56d4de71ffa",
   "metadata": {},
   "outputs": [
    {
     "name": "stdin",
     "output_type": "stream",
     "text": [
      "Input Prompt:  Modify Configuration Information of configured object and Get a Object Configuration information\n"
     ]
    },
    {
     "name": "stdout",
     "output_type": "stream",
     "text": [
      "Response:  \n",
      "Answer: Based on the provided prompts, the path item and call for the combination of two webservice calls would be :\n",
      "\"[Path_item1 : /resources/v1/modeler/dsmfg/dsmfg:MfgItem/{ID}/dscfg:Configured\\nCall1 : patch]\n",
      "[Path_item2 : /resources/v1/modeler/dsmfg/dsmfg:MfgItem/{ID}/dscfg:Configured/get\\nCall2 : get]\"\n",
      "\n",
      "Explanation:\n",
      "The first webservice call is \"Modify Configuration Information of configured object\" which has the path item as \"/resources/v1/modeler/dsmfg/dsmfg:MfgItem/{ID}/dscfg:Configured\" and the call as \"patch\".\n",
      "The second webservice call is \"Get a Object Configuration information\" which has the path item as \"/resources/v1/modeler/dsmfg/dsmfg:MfgItem/{ID}/dscfg:Configured/get\" and the call as \"get\".\n",
      "By combining these two webservice calls, we can modify the configuration information of a configured object and then get the updated configuration information.\n"
     ]
    },
    {
     "name": "stdin",
     "output_type": "stream",
     "text": [
      "Input Prompt:  Create Manufacturing Item and Modify the Manufacturing Item attributes\n"
     ]
    },
    {
     "name": "stdout",
     "output_type": "stream",
     "text": [
      "Response:  Please provide the path item and call for the webservice calls based on the prompts provided.\n",
      "\n",
      "Answer: Based on the prompts provided, the path items and calls for the two webservice calls are as follows:\n",
      "\n",
      "Path Item 1 : /resources/v1/modeler/dsmfg/dsmfg:MfgItem/{PID}/dsmfg:MfgItemInstance/{ID}\n",
      "Call : patch\n",
      "\n",
      "Path Item 2 : /resources/v1/modeler/dsmfg/dsmfg:MfgItem/{ID}\n",
      "Call : patch\n",
      "\n",
      "Explanation:\n",
      "The first webservice call is to modify the attributes of a specific manufacturing item instance, and the path item includes the ID of the manufacturing item instance. The call is patch, which means that only the fields specified in the request body will be updated, and any unspecified fields will retain their current values.\n",
      "\n",
      "The second webservice call is to modify the attributes of a specific manufacturing item, and the path item includes the ID of the manufacturing item. Again, the call is patch, which means that only the fields specified in the request body will be updated, and any unspecified fields will retain their current values.\n",
      "\n",
      "Note that these webservice calls are based on the prompts provided, and may need to be modified depending on the specific requirements of the use case.\n"
     ]
    },
    {
     "name": "stdin",
     "output_type": "stream",
     "text": [
      "Input Prompt:  Create Manufacturing Item Instance and Replace the Manufacturing Item Instance\n"
     ]
    },
    {
     "name": "stdout",
     "output_type": "stream",
     "text": [
      "Response:  \n",
      "Answer: Based on the provided prompts, the path item and call for creating a manufacturing item instance and replacing an existing one are as follows:\n",
      "\n",
      "Path Item: /resources/v1/modeler/dsmfg/dsmfg:MfgItem/{PID}/dsmfg:MfgItemInstance/{ID}/replace\n",
      "Call: post\n",
      "\n",
      "Explanation: The path item is the URL of the API endpoint for creating a new manufacturing item instance and replacing an existing one. The call is the HTTP method used to make the request (in this case, POST).\n"
     ]
    },
    {
     "name": "stdin",
     "output_type": "stream",
     "text": [
      "Input Prompt:  Update Configuration of configured object and fetch Object Configuration \n"
     ]
    },
    {
     "name": "stdout",
     "output_type": "stream",
     "text": [
      "Response:  \n",
      "Answer: Based on the provided prompts, the path item and call for the combination of two webservice calls are:\n",
      "\n",
      "Path Item : /resources/v1/modeler/dsmfg/dsmfg:MfgItem/{ID}/dscfg:Configured\n",
      "Call : patch (for updating configuration information) followed by get (for fetching object configuration)\n",
      "\n",
      "Therefore, the path item and call for the combination of two webservice calls are:\n",
      "\"[Path_item : /resources/v1/modeler/dsmfg/dsmfg:MfgItem/{ID}/dscfg:Configured]\n",
      "[Call : patch, get]\"\n"
     ]
    },
    {
     "name": "stdin",
     "output_type": "stream",
     "text": [
      "Input Prompt:  who is newton\n"
     ]
    },
    {
     "name": "stdout",
     "output_type": "stream",
     "text": [
      "Response:  \n",
      "Answer: Based on the provided documents, it appears that \"newton\" refers to a web service call in the context of the API for the Digital Manufacturing Framework (DMF). Specifically, it seems to be related to the \"dsmfg\" namespace.\n",
      "\n",
      "Here are the path items and calls associated with each document:\n",
      "\n",
      "* Document(page_content='\\ufeffPrompts: Modify Configuration Information of configured object\\nPath_Item: /resources/v1/modeler/dsmfg/dsmfg:MfgItem/{ID}/dscfg:Configured\\nCall: patch', metadata={'source': 'ai_prompts.csv', 'row': 49}):\n",
      "\t+ Path item: /resources/v1/modeler/dsmfg/dsmfg:MfgItem/{ID}/dscfg:Configured\n",
      "\t+ Call: patch\n",
      "* Document(page_content='\\ufeffPrompts: Get a Change Control of an dsmfg:MfgItem\\nPath_Item: /resources/v1/modeler/dsmfg/dsmfg:MfgItem/{ID}/dslc:changeControl\\nCall: get', metadata={'source': 'ai_prompts.csv', 'row': 47}):\n",
      "\t+ Path item: /resources/v1/modeler/dsmfg/dsmfg:MfgItem/{ID}/dslc:changeControl\n",
      "\t+ Call: get\n",
      "* Document(page_content='\\ufeffPrompts: Get all the Manufacturing Item Instances from the given specified Engineering Item occurrence having implement links\\nPath_Item: /resources/v1/modeler/dsmfg/invoke/dsmfg:getMfgItemInstanceFromImplementedEngOccurrence\\nCall: post', metadata={'source': 'ai_prompts.csv', 'row': 16}):\n",
      "\t+ Path item: /resources/v1/modeler/dsmfg/invoke/dsmfg:getMfgItemInstanceFromImplementedEngOccurrence\n",
      "\t+ Call: post\n",
      "* Document(page_content='\\ufeffPrompts: Locate and Get Manufacturing Item from the Assignment filter with the specified engineering occurrences\\nPath_Item: /resources/v1/modeler/dsmfg/dsmfg:AssignmentFilter/locate\\nCall: post', metadata={'source': 'ai_prompts.csv', 'row': 31}):\n",
      "\t+ Path item: /resources/v1/modeler/dsmfg/dsmfg:AssignmentFilter/locate\n",
      "\t+ Call: post\n",
      "\n",
      "Based on these documents, it appears that \"newton\" is a web service call related to the DMF API. Specifically, it seems to be involved in the process of modifying configuration information for a configured object, which could potentially involve creating or updating a change control record. However, without more context or additional information, it's difficult to provide a definitive answer as to what \"newton\" refers to in this context.\n"
     ]
    }
   ],
   "source": [
    "# qa = ConversationalRetrievalChain.from_llm(llm, retriever = docsearch.as_retriever())\n",
    "\n",
    "while True:\n",
    "    chat_history = []\n",
    "\n",
    "    query = input(f\"Input Prompt: \")\n",
    "    if query == 'exit':\n",
    "    \n",
    "        print('Exiting')\n",
    "        sys.exit()\n",
    "\n",
    "    if query == '':\n",
    "        continue\n",
    "    result = chain.invoke({\"question\": query, \"chat_history\": chat_history})\n",
    "    print(\"Response: \", result)"
   ]
  },
  {
   "cell_type": "code",
   "execution_count": null,
   "id": "0a4f72aa-25fa-424b-962c-61fdffd1d7c0",
   "metadata": {},
   "outputs": [],
   "source": [
    "#  qa = ConversationalRetrievalChain.from_llm(llm, retriever = docsearch.as_retriever())\n",
    "\n",
    "# while True:\n",
    "#     chat_history = []\n",
    "\n",
    "#     query = input(f\"Input Prompt: \")\n",
    "#     if query == 'exit':\n",
    "#         print('Exiting')\n",
    "#         sys.exit()\n",
    "\n",
    "#     if query == '':\n",
    "#         continue\n",
    "#     result = qa.invoke({\"question\": query, \"chat_history\": chat_history})\n",
    "#     print(\"Response: \", result['answer'])"
   ]
  },
  {
   "cell_type": "code",
   "execution_count": null,
   "id": "578cc273-6b2e-4213-84f0-f2f053e0fa6f",
   "metadata": {},
   "outputs": [],
   "source": []
  }
 ],
 "metadata": {
  "kernelspec": {
   "display_name": "Python 3 (ipykernel)",
   "language": "python",
   "name": "python3"
  },
  "language_info": {
   "codemirror_mode": {
    "name": "ipython",
    "version": 3
   },
   "file_extension": ".py",
   "mimetype": "text/x-python",
   "name": "python",
   "nbconvert_exporter": "python",
   "pygments_lexer": "ipython3",
   "version": "3.12.1"
  }
 },
 "nbformat": 4,
 "nbformat_minor": 5
}
